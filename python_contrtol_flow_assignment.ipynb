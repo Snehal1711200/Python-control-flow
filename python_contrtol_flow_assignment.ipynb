{
  "nbformat": 4,
  "nbformat_minor": 0,
  "metadata": {
    "colab": {
      "provenance": []
    },
    "kernelspec": {
      "name": "python3",
      "display_name": "Python 3"
    },
    "language_info": {
      "name": "python"
    }
  },
  "cells": [
    {
      "cell_type": "markdown",
      "source": [
        "Basic If-Else Statements:\n",
        "1. Write a Python program to check if a given number is positive or negative.\n",
        "2. Create a program that determines if a person is eligible to vote based on their age.\n",
        "3. Develop a program to find the maximum of two numbers using if-else statements.\n",
        "4. Write a Python script to classify a given year as a leap year or not.\n",
        "5. Create a\n",
        "program that checks whether a character is a vowel or a consonant.\n",
        "6. Implement a program to determine whether a given number is even or odd.\n",
        "7. Write a Python function to calculate the absolute value of a number without using the `abs()` function.\n",
        "8. Develop a program that determines the largest of three given numbers using if-else statements.\n",
        "9. Create a program that checks if a given string is a palindrome.\n",
        "10. Write a Python program to calculate the grade based on a student's score."
      ],
      "metadata": {
        "id": "m8GTxV8gYpg4"
      }
    },
    {
      "cell_type": "code",
      "source": [
        "# Get input from the user\n",
        "number = float(input(\"Enter a number: \"))\n",
        "\n",
        "# Check if the number is positive, negative, or zero\n",
        "if number > 0:\n",
        "    print(\"The number is positive.\")\n",
        "elif number < 0:\n",
        "    print(\"The number is negative.\")\n",
        "else:\n",
        "    print(\"The number is zero.\")\n"
      ],
      "metadata": {
        "id": "8RE9j8qwYx7k",
        "colab": {
          "base_uri": "https://localhost:8080/"
        },
        "outputId": "bdabd1fe-a573-4b4a-feff-cddf678b29fa"
      },
      "execution_count": null,
      "outputs": [
        {
          "output_type": "stream",
          "name": "stdout",
          "text": [
            "Enter a number: 67\n",
            "The number is positive.\n"
          ]
        }
      ]
    },
    {
      "cell_type": "code",
      "source": [
        "# Get input from the user\n",
        "age = int(input(\"Enter your age: \"))\n",
        "\n",
        "# Check if the person is eligible to vote\n",
        "if age >= 18:\n",
        "    print(\"You are eligible to vote.\")\n",
        "else:\n",
        "    print(\"You are not eligible to vote.\")\n"
      ],
      "metadata": {
        "id": "T8dISEWqYx4C",
        "colab": {
          "base_uri": "https://localhost:8080/"
        },
        "outputId": "b01ece06-7dd5-4007-9d38-87d7a3e4ceff"
      },
      "execution_count": null,
      "outputs": [
        {
          "output_type": "stream",
          "name": "stdout",
          "text": [
            "Enter your age: 67\n",
            "You are eligible to vote.\n"
          ]
        }
      ]
    },
    {
      "cell_type": "code",
      "source": [
        "# Get input from the user\n",
        "num1 = float(input(\"Enter the first number: \"))\n",
        "num2 = float(input(\"Enter the second number: \"))\n",
        "\n",
        "# Compare the numbers and find the maximum\n",
        "if num1 > num2:\n",
        "    print(f\"The maximum number is {num1}.\")\n",
        "elif num2 > num1:\n",
        "    print(f\"The maximum number is {num2}.\")\n",
        "else:\n",
        "    print(\"Both numbers are equal.\")\n"
      ],
      "metadata": {
        "id": "Itl6eF8XYx1m",
        "colab": {
          "base_uri": "https://localhost:8080/"
        },
        "outputId": "d10be7c9-4c62-44db-d985-9ebe7b1cf606"
      },
      "execution_count": null,
      "outputs": [
        {
          "output_type": "stream",
          "name": "stdout",
          "text": [
            "Enter the first number: 7\n",
            "Enter the second number: 8\n",
            "The maximum number is 8.0.\n"
          ]
        }
      ]
    },
    {
      "cell_type": "code",
      "source": [
        "# Get input from the user\n",
        "year = int(input(\"Enter a year: \"))\n",
        "\n",
        "# Check if the year is a leap year\n",
        "if (year % 4 == 0 and year % 100 != 0) or (year % 400 == 0):\n",
        "    print(f\"{year} is a leap year.\")\n",
        "else:\n",
        "    print(f\"{year} is not a leap year.\")\n"
      ],
      "metadata": {
        "id": "CVVhiazeYxxu",
        "colab": {
          "base_uri": "https://localhost:8080/"
        },
        "outputId": "a7ee1ed1-d351-4a11-f99c-b2bfa73b1901"
      },
      "execution_count": null,
      "outputs": [
        {
          "output_type": "stream",
          "name": "stdout",
          "text": [
            "Enter a year: 2024\n",
            "2024 is a leap year.\n"
          ]
        }
      ]
    },
    {
      "cell_type": "code",
      "source": [
        "# Get input from the user\n",
        "char = input(\"Enter a character: \").lower()\n",
        "\n",
        "# Check if the character is a vowel or consonant\n",
        "if char in 'aeiou':\n",
        "    print(f\"{char} is a vowel.\")\n",
        "elif char.isalpha():\n",
        "    print(f\"{char} is a consonant.\")\n",
        "else:\n",
        "    print(\"Invalid input. Please enter a letter.\")\n"
      ],
      "metadata": {
        "id": "_MF_Ku70YxuN",
        "colab": {
          "base_uri": "https://localhost:8080/"
        },
        "outputId": "c8622711-f51a-4db0-f45e-5a4de8003b49"
      },
      "execution_count": null,
      "outputs": [
        {
          "output_type": "stream",
          "name": "stdout",
          "text": [
            "Enter a character: sdfghjae\n",
            "sdfghjae is a consonant.\n"
          ]
        }
      ]
    },
    {
      "cell_type": "code",
      "source": [
        "# Get input from the user\n",
        "number = int(input(\"Enter a number: \"))\n",
        "\n",
        "# Check if the number is even or odd\n",
        "if number % 2 == 0:\n",
        "    print(f\"{number} is an even number.\")\n",
        "else:\n",
        "    print(f\"{number} is an odd number.\")\n"
      ],
      "metadata": {
        "id": "RXbzC1RcYxrx",
        "colab": {
          "base_uri": "https://localhost:8080/"
        },
        "outputId": "0337bc8f-ddb8-4fc8-83a4-628373b72bb6"
      },
      "execution_count": null,
      "outputs": [
        {
          "output_type": "stream",
          "name": "stdout",
          "text": [
            "Enter a number: 78\n",
            "78 is an even number.\n"
          ]
        }
      ]
    },
    {
      "cell_type": "markdown",
      "source": [],
      "metadata": {
        "id": "4rUGvfg5Zo2Z"
      }
    },
    {
      "cell_type": "code",
      "source": [
        "# Function to calculate absolute value\n",
        "def absolute_value(number):\n",
        "    if number < 0:\n",
        "        return -number\n",
        "    else:\n",
        "        return number\n",
        "\n",
        "# Get input from the user\n",
        "num = float(input(\"Enter a number: \"))\n",
        "\n",
        "# Call the function and display the result\n",
        "print(f\"The absolute value of {num} is {absolute_value(num)}.\")\n"
      ],
      "metadata": {
        "id": "UgAWr5fnYxpB",
        "colab": {
          "base_uri": "https://localhost:8080/"
        },
        "outputId": "2e55461a-763f-4696-f7db-487c9b5e3990"
      },
      "execution_count": null,
      "outputs": [
        {
          "output_type": "stream",
          "name": "stdout",
          "text": [
            "Enter a number: -67\n",
            "The absolute value of -67.0 is 67.0.\n"
          ]
        }
      ]
    },
    {
      "cell_type": "code",
      "source": [
        "# Get input from the user\n",
        "num1 = float(input(\"Enter the first number: \"))\n",
        "num2 = float(input(\"Enter the second number: \"))\n",
        "num3 = float(input(\"Enter the third number: \"))\n",
        "\n",
        "# Determine the largest number using if-else statements\n",
        "if num1 >= num2 and num1 >= num3:\n",
        "    largest = num1\n",
        "elif num2 >= num1 and num2 >= num3:\n",
        "    largest = num2\n",
        "else:\n",
        "    largest = num3\n",
        "\n",
        "# Print the result\n",
        "print(f\"The largest number is {largest}.\")\n"
      ],
      "metadata": {
        "id": "4wIm18KGYxmd",
        "colab": {
          "base_uri": "https://localhost:8080/"
        },
        "outputId": "4eb185a0-8cbe-4adc-8c07-f207138e4104"
      },
      "execution_count": null,
      "outputs": [
        {
          "output_type": "stream",
          "name": "stdout",
          "text": [
            "Enter the first number: 67\n",
            "Enter the second number: 89\n",
            "Enter the third number: 3\n",
            "The largest number is 89.0.\n"
          ]
        }
      ]
    },
    {
      "cell_type": "code",
      "source": [
        "# Function to check if a string is a palindrome\n",
        "def is_palindrome(string):\n",
        "    # Remove spaces and convert to lowercase for uniform comparison\n",
        "    string = string.replace(\" \", \"\").lower()\n",
        "\n",
        "    # Check if the string is the same forwards and backwards\n",
        "    if string == string[::-1]:\n",
        "        return True\n",
        "    else:\n",
        "        return False\n",
        "\n",
        "# Get input from the user\n",
        "input_string = input(\"Enter a string: \")\n",
        "\n",
        "# Check if the string is a palindrome\n",
        "if is_palindrome(input_string):\n",
        "    print(f\"'{input_string}' is a palindrome.\")\n",
        "else:\n",
        "    print(f\"'{input_string}' is not a palindrome.\")\n"
      ],
      "metadata": {
        "id": "6e1WhjwbYxi0",
        "colab": {
          "base_uri": "https://localhost:8080/"
        },
        "outputId": "54451991-b3a6-49d6-9588-d50caa199af3"
      },
      "execution_count": null,
      "outputs": [
        {
          "output_type": "stream",
          "name": "stdout",
          "text": [
            "Enter a string: fghj\n",
            "'fghj' is not a palindrome.\n"
          ]
        }
      ]
    },
    {
      "cell_type": "code",
      "source": [
        "# Function to calculate grade based on score\n",
        "def calculate_grade(score):\n",
        "    if score >= 90:\n",
        "        return \"A\"\n",
        "    elif score >= 80:\n",
        "        return \"B\"\n",
        "    elif score >= 70:\n",
        "        return \"C\"\n",
        "    elif score >= 60:\n",
        "        return \"D\"\n",
        "    else:\n",
        "        return \"F\"\n",
        "\n",
        "# Get input from the user\n",
        "score = float(input(\"Enter the student's score (0-100): \"))\n",
        "\n",
        "# Check if the score is within a valid range\n",
        "if 0 <= score <= 100:\n",
        "    # Call the function to get the grade\n",
        "    grade = calculate_grade(score)\n",
        "    print(f\"The grade for the score {score} is: {grade}\")\n",
        "else:\n",
        "    print(\"Invalid score. Please enter a score between 0 and 100.\")\n"
      ],
      "metadata": {
        "id": "YHi1XnOHYxgZ",
        "colab": {
          "base_uri": "https://localhost:8080/"
        },
        "outputId": "e1f83f1e-5829-459c-f87e-b1839db38a69"
      },
      "execution_count": null,
      "outputs": [
        {
          "output_type": "stream",
          "name": "stdout",
          "text": [
            "Enter the student's score (0-100): 78\n",
            "The grade for the score 78.0 is: C\n"
          ]
        }
      ]
    },
    {
      "cell_type": "markdown",
      "source": [
        "Nested If-Else Statements:\n",
        "11. Write a program to find the largest among three numbers using nested if-else statements.\n",
        "12. Implement a program to determine if a triangle is equilateral, isosceles, or scalene.\n",
        "13. Develop a program that checks if a year is a leap year and also if it is a century year.\n",
        "14. Write a Python script to determine if a number is positive, negative, or zero.\n",
        "15. Create a program to check if a person is a teenager (between 13 and 19 years old).\n",
        "16. Develop a program that determines the type of angle based on its measure (acute, obtuse, or right).\n",
        "17. Write a Python program to calculate the roots of a quadratic equation.\n",
        "18. Implement a program to determine the day of the week based on a user-provided number (1 for Monday, 2\n",
        "for Tuesday, etc.).\n",
        "19. Create a program that determines if a year is a leap year and also if it is evenly divisible by 400.\n",
        "20. Develop a program that checks if a given number is prime or not using nested if-else statements.\n"
      ],
      "metadata": {
        "id": "tWod0K46aF-Z"
      }
    },
    {
      "cell_type": "code",
      "source": [
        "# Get input from the user\n",
        "num1 = float(input(\"Enter the first number: \"))\n",
        "num2 = float(input(\"Enter the second number: \"))\n",
        "num3 = float(input(\"Enter the third number: \"))\n",
        "\n",
        "# Nested if-else to find the largest number\n",
        "if num1 >= num2:\n",
        "    if num1 >= num3:\n",
        "        largest = num1\n",
        "    else:\n",
        "        largest = num3\n",
        "else:\n",
        "    if num2 >= num3:\n",
        "        largest = num2\n",
        "    else:\n",
        "        largest = num3\n",
        "\n",
        "# Print the largest number\n",
        "print(f\"The largest number is {largest}.\")\n"
      ],
      "metadata": {
        "id": "uV9rs6MFYxeC",
        "colab": {
          "base_uri": "https://localhost:8080/"
        },
        "outputId": "e0085e9b-09bf-498b-a05a-c3885bf01cdb"
      },
      "execution_count": null,
      "outputs": [
        {
          "output_type": "stream",
          "name": "stdout",
          "text": [
            "Enter the first number: 67\n",
            "Enter the second number: 89\n",
            "Enter the third number: 96\n",
            "The largest number is 96.0.\n"
          ]
        }
      ]
    },
    {
      "cell_type": "code",
      "source": [
        "# Function to determine the type of triangle\n",
        "def triangle_type(a, b, c):\n",
        "    if a == b == c:\n",
        "        return \"Equilateral\"\n",
        "    elif a == b or b == c or a == c:\n",
        "        return \"Isosceles\"\n",
        "    else:\n",
        "        return \"Scalene\"\n",
        "\n",
        "# Get input from the user for the sides of the triangle\n",
        "side1 = float(input(\"Enter the length of the first side: \"))\n",
        "side2 = float(input(\"Enter the length of the second side: \"))\n",
        "side3 = float(input(\"Enter the length of the third side: \"))\n",
        "\n",
        "# Check if the sides form a valid triangle (sum of two sides must be greater than the third side)\n",
        "if (side1 + side2 > side3) and (side2 + side3 > side1) and (side1 + side3 > side2):\n",
        "    # Determine the type of triangle\n",
        "    triangle = triangle_type(side1, side2, side3)\n",
        "    print(f\"The triangle is {triangle}.\")\n",
        "else:\n",
        "    print(\"The given sides do not form a valid triangle.\")\n"
      ],
      "metadata": {
        "id": "DAj9XEnjYxa_",
        "colab": {
          "base_uri": "https://localhost:8080/"
        },
        "outputId": "b02f52bd-c305-482b-aa05-8f9eae3762de"
      },
      "execution_count": null,
      "outputs": [
        {
          "output_type": "stream",
          "name": "stdout",
          "text": [
            "Enter the length of the first side: 78\n",
            "Enter the length of the second side: 7\n",
            "Enter the length of the third side: 9\n",
            "The given sides do not form a valid triangle.\n"
          ]
        }
      ]
    },
    {
      "cell_type": "code",
      "source": [
        "# Function to check if a year is a leap year\n",
        "def is_leap_year(year):\n",
        "    if (year % 4 == 0 and year % 100 != 0) or (year % 400 == 0):\n",
        "        return True\n",
        "    else:\n",
        "        return False\n",
        "\n",
        "# Function to check if a year is a century year\n",
        "def is_century_year(year):\n",
        "    return year % 100 == 0\n",
        "\n",
        "# Get input from the user\n",
        "year = int(input(\"Enter a year: \"))\n",
        "\n",
        "# Check if the year is a leap year\n",
        "if is_leap_year(year):\n",
        "    print(f\"{year} is a leap year.\")\n",
        "else:\n",
        "    print(f\"{year} is not a leap year.\")\n",
        "\n",
        "# Check if the year is a century year\n",
        "if is_century_year(year):\n",
        "    print(f\"{year} is a century year.\")\n",
        "else:\n",
        "    print(f\"{year} is not a century year.\")\n"
      ],
      "metadata": {
        "id": "d37JH19HYxYc",
        "colab": {
          "base_uri": "https://localhost:8080/"
        },
        "outputId": "ac3567b2-b709-4597-8b53-49d8eae159f8"
      },
      "execution_count": null,
      "outputs": [
        {
          "output_type": "stream",
          "name": "stdout",
          "text": [
            "Enter a year: 7898\n",
            "7898 is not a leap year.\n",
            "7898 is not a century year.\n"
          ]
        }
      ]
    },
    {
      "cell_type": "code",
      "source": [
        "# Get input from the user\n",
        "number = float(input(\"Enter a number: \"))\n",
        "\n",
        "# Check if the number is positive, negative, or zero\n",
        "if number > 0:\n",
        "    print(f\"{number} is a positive number.\")\n",
        "elif number < 0:\n",
        "    print(f\"{number} is a negative number.\")\n",
        "else:\n",
        "    print(f\"{number} is zero.\")\n"
      ],
      "metadata": {
        "id": "Xig38NV5YxAk",
        "colab": {
          "base_uri": "https://localhost:8080/"
        },
        "outputId": "4358df5d-2cf8-4b8e-99d9-766477c6b6c5"
      },
      "execution_count": null,
      "outputs": [
        {
          "output_type": "stream",
          "name": "stdout",
          "text": [
            "Enter a number: 7\n",
            "7.0 is a positive number.\n"
          ]
        }
      ]
    },
    {
      "cell_type": "code",
      "source": [
        "# Get input from the user\n",
        "age = int(input(\"Enter your age: \"))\n",
        "\n",
        "# Check if the person is a teenager\n",
        "if 13 <= age <= 19:\n",
        "    print(\"You are a teenager.\")\n",
        "else:\n",
        "    print(\"You are not a teenager.\")\n"
      ],
      "metadata": {
        "id": "ddZaP8ALYt-t",
        "colab": {
          "base_uri": "https://localhost:8080/"
        },
        "outputId": "2b7f909d-e6f9-4cf4-b306-ac3d8c9f4d57"
      },
      "execution_count": null,
      "outputs": [
        {
          "output_type": "stream",
          "name": "stdout",
          "text": [
            "Enter your age: 87\n",
            "You are not a teenager.\n"
          ]
        }
      ]
    },
    {
      "cell_type": "code",
      "source": [
        "# Get input from the user\n",
        "angle = float(input(\"Enter the angle in degrees: \"))\n",
        "\n",
        "# Determine the type of angle\n",
        "if angle < 90:\n",
        "    print(f\"The angle of {angle} degrees is an acute angle.\")\n",
        "elif angle == 90:\n",
        "    print(f\"The angle of {angle} degrees is a right angle.\")\n",
        "elif angle < 180:\n",
        "    print(f\"The angle of {angle} degrees is an obtuse angle.\")\n",
        "else:\n",
        "    print(f\"The angle of {angle} degrees is invalid (it cannot be 180 degrees or more).\")\n"
      ],
      "metadata": {
        "colab": {
          "base_uri": "https://localhost:8080/"
        },
        "id": "637KamaTbRUh",
        "outputId": "6d85724e-a598-4ade-e414-bc8f6b476814"
      },
      "execution_count": null,
      "outputs": [
        {
          "output_type": "stream",
          "name": "stdout",
          "text": [
            "Enter the angle in degrees: 78\n",
            "The angle of 78.0 degrees is an acute angle.\n"
          ]
        }
      ]
    },
    {
      "cell_type": "code",
      "source": [
        "import math\n",
        "\n",
        "# Function to calculate the roots of a quadratic equation\n",
        "def calculate_roots(a, b, c):\n",
        "    discriminant = b**2 - 4*a*c  # Calculate the discriminant\n",
        "\n",
        "    if discriminant > 0:\n",
        "        # Two real and distinct roots\n",
        "        root1 = (-b + math.sqrt(discriminant)) / (2 * a)\n",
        "        root2 = (-b - math.sqrt(discriminant)) / (2 * a)\n",
        "        return root1, root2\n",
        "    elif discriminant == 0:\n",
        "        # One real root\n",
        "        root = -b / (2 * a)\n",
        "        return root,\n",
        "    else:\n",
        "        # Complex roots\n",
        "        real_part = -b / (2 * a)\n",
        "        imaginary_part = math.sqrt(-discriminant) / (2 * a)\n",
        "        return real_part + imaginary_part * 1j, real_part - imaginary_part * 1j\n",
        "\n",
        "# Get input from the user for coefficients a, b, and c\n",
        "a = float(input(\"Enter the coefficient a: \"))\n",
        "b = float(input(\"Enter the coefficient b: \"))\n",
        "c = float(input(\"Enter the coefficient c: \"))\n",
        "\n",
        "# Check if a is not zero (otherwise it's not a quadratic equation)\n",
        "if a == 0:\n",
        "    print(\"The value of 'a' should not be zero. This is not a quadratic equation.\")\n",
        "else:\n",
        "    # Calculate the roots and print the result\n",
        "    roots = calculate_roots(a, b, c)\n",
        "    if len(roots) == 2:\n",
        "        print(f\"The roots of the quadratic equation are {roots[0]} and {roots[1]}.\")\n",
        "    else:\n",
        "        print(f\"The root of the quadratic equation is {roots[0]}.\")\n"
      ],
      "metadata": {
        "colab": {
          "base_uri": "https://localhost:8080/"
        },
        "id": "WdeNTM_bbRQ2",
        "outputId": "9adf4d13-34aa-4ee3-f8fa-bc8d53dbf3ad"
      },
      "execution_count": null,
      "outputs": [
        {
          "output_type": "stream",
          "name": "stdout",
          "text": [
            "Enter the coefficient a: 7\n",
            "Enter the coefficient b: 67\n",
            "Enter the coefficient c: 8\n",
            "The roots of the quadratic equation are -0.12093089506980144 and -9.450497676358768.\n"
          ]
        }
      ]
    },
    {
      "cell_type": "code",
      "source": [
        "# Function to determine the day of the week\n",
        "def get_day_of_week(day_number):\n",
        "    days = [\"Monday\", \"Tuesday\", \"Wednesday\", \"Thursday\", \"Friday\", \"Saturday\", \"Sunday\"]\n",
        "\n",
        "    if 1 <= day_number <= 7:\n",
        "        return days[day_number - 1]  # Adjust for zero-based indexing\n",
        "    else:\n",
        "        return \"Invalid number! Please enter a number between 1 and 7.\"\n",
        "\n",
        "# Get input from the user\n",
        "day_number = int(input(\"Enter a number (1 for Monday, 2 for Tuesday, ..., 7 for Sunday): \"))\n",
        "\n",
        "# Determine and print the corresponding day of the week\n",
        "day = get_day_of_week(day_number)\n",
        "print(f\"The day of the week is: {day}\")\n"
      ],
      "metadata": {
        "colab": {
          "base_uri": "https://localhost:8080/"
        },
        "id": "mkjB1M0-bRN9",
        "outputId": "e88942f3-fc06-46ad-bd19-78aba6b4d3f2"
      },
      "execution_count": null,
      "outputs": [
        {
          "output_type": "stream",
          "name": "stdout",
          "text": [
            "Enter a number (1 for Monday, 2 for Tuesday, ..., 7 for Sunday): 1\n",
            "The day of the week is: Monday\n"
          ]
        }
      ]
    },
    {
      "cell_type": "code",
      "source": [
        "# Function to check if a year is a leap year\n",
        "def is_leap_year(year):\n",
        "    if (year % 4 == 0 and year % 100 != 0) or (year % 400 == 0):\n",
        "        return True\n",
        "    else:\n",
        "        return False\n",
        "\n",
        "# Function to check if a year is divisible by 400\n",
        "def is_divisible_by_400(year):\n",
        "    return year % 400 == 0\n",
        "\n",
        "# Get input from the user\n",
        "year = int(input(\"Enter a year: \"))\n",
        "\n",
        "# Check if the year is a leap year\n",
        "if is_leap_year(year):\n",
        "    print(f\"{year} is a leap year.\")\n",
        "else:\n",
        "    print(f\"{year} is not a leap year.\")\n",
        "\n",
        "# Check if the year is divisible by 400\n",
        "if is_divisible_by_400(year):\n",
        "    print(f\"{year} is evenly divisible by 400.\")\n",
        "else:\n",
        "    print(f\"{year} is not evenly divisible by 400.\")\n"
      ],
      "metadata": {
        "colab": {
          "base_uri": "https://localhost:8080/"
        },
        "id": "hQgv5vNDbRLb",
        "outputId": "8c1c4a8c-7aca-433d-bfdd-b396b30cd702"
      },
      "execution_count": null,
      "outputs": [
        {
          "output_type": "stream",
          "name": "stdout",
          "text": [
            "Enter a year: 3067\n",
            "3067 is not a leap year.\n",
            "3067 is not evenly divisible by 400.\n"
          ]
        }
      ]
    },
    {
      "cell_type": "code",
      "source": [
        "# Function to check if a number is prime\n",
        "def is_prime(number):\n",
        "    if number <= 1:\n",
        "        return False  # Numbers less than or equal to 1 are not prime\n",
        "    else:\n",
        "        # Check divisibility from 2 to the square root of the number\n",
        "        for i in range(2, int(number ** 0.5) + 1):\n",
        "            if number % i == 0:  # If the number is divisible by i, it's not prime\n",
        "                return False\n",
        "        return True  # If no divisors are found, the number is prime\n",
        "\n",
        "# Get input from the user\n",
        "number = int(input(\"Enter a number: \"))\n",
        "\n",
        "# Check if the number is prime using nested if-else\n",
        "if number <= 1:\n",
        "    print(f\"{number} is not a prime number.\")\n",
        "else:\n",
        "    if is_prime(number):\n",
        "        print(f\"{number} is a prime number.\")\n",
        "    else:\n",
        "        print(f\"{number} is not a prime number.\")\n"
      ],
      "metadata": {
        "colab": {
          "base_uri": "https://localhost:8080/"
        },
        "id": "hw2N0CzybRIq",
        "outputId": "14d36699-92f5-439e-db6a-e9d2cf70458a"
      },
      "execution_count": null,
      "outputs": [
        {
          "output_type": "stream",
          "name": "stdout",
          "text": [
            "Enter a number: 78\n",
            "78 is not a prime number.\n"
          ]
        }
      ]
    },
    {
      "cell_type": "markdown",
      "source": [
        "Elif Statements:\n",
        "21. Write a Python program to assign grades based on different ranges of scores using elif statements.\n",
        "22. Implement a program to determine the type of a triangle based on its angles.\n",
        "23. Develop a program to categorize a given person's BMI into underweight, normal, overweight, or obese using\n",
        "elif statements.\n",
        "24. Create a program that determines whether a given number is positive, negative, or zero using elif\n",
        "statements.\n",
        "25. Write a Python script to determine the type of a character (uppercase, lowercase, or special) using elif\n",
        "statements.\n",
        "26. Implement a program to calculate the discounted price based on different purchase amounts using elif\n",
        "statements.\n",
        "27. Develop a program to calculate the electricity bill based on different consumption slabs using elif\n",
        "statements.\n",
        "28. Create a program to determine the type of quadrilateral based on its angles and sides using elif\n",
        "statements.\n",
        "29. Write a Python script to determine the season based on a user-provided month using elif statements.\n",
        "30. Implement a program to determine the type of a year (leap or common) and month (30 or 31 days) using\n",
        "elif statements."
      ],
      "metadata": {
        "id": "jXBy9bvvcq12"
      }
    },
    {
      "cell_type": "code",
      "source": [
        "def assign_grade(score):\n",
        "    if score >= 90:\n",
        "        return \"A\"\n",
        "    elif score >= 80:\n",
        "        return \"B\"\n",
        "    elif score >= 70:\n",
        "        return \"C\"\n",
        "    elif score >= 60:\n",
        "        return \"D\"\n",
        "    else:\n",
        "        return \"F\"\n",
        "\n",
        "score = float(input(\"Enter the score: \"))\n",
        "print(f\"The grade for the score {score} is: {assign_grade(score)}\")\n"
      ],
      "metadata": {
        "colab": {
          "base_uri": "https://localhost:8080/"
        },
        "id": "a6Ivu_l0bRFm",
        "outputId": "9dd34812-91ea-41ad-84cd-188ef05032c6"
      },
      "execution_count": null,
      "outputs": [
        {
          "output_type": "stream",
          "name": "stdout",
          "text": [
            "Enter the score: 78\n",
            "The grade for the score 78.0 is: C\n"
          ]
        }
      ]
    },
    {
      "cell_type": "code",
      "source": [
        "def triangle_type(angle1, angle2, angle3):\n",
        "    if angle1 + angle2 + angle3 != 180:\n",
        "        return \"Invalid triangle\"\n",
        "    elif angle1 == 90 or angle2 == 90 or angle3 == 90:\n",
        "        return \"Right-angled triangle\"\n",
        "    elif angle1 < 90 and angle2 < 90 and angle3 < 90:\n",
        "        return \"Acute triangle\"\n",
        "    else:\n",
        "        return \"Obtuse triangle\"\n",
        "\n",
        "angle1 = float(input(\"Enter the first angle: \"))\n",
        "angle2 = float(input(\"Enter the second angle: \"))\n",
        "angle3 = float(input(\"Enter the third angle: \"))\n",
        "print(triangle_type(angle1, angle2, angle3))\n"
      ],
      "metadata": {
        "colab": {
          "base_uri": "https://localhost:8080/"
        },
        "id": "JzyYCCAdbRC6",
        "outputId": "548c8b1e-a66e-4f5e-d44f-9973216fd4b1"
      },
      "execution_count": null,
      "outputs": [
        {
          "output_type": "stream",
          "name": "stdout",
          "text": [
            "Enter the first angle: 78\n",
            "Enter the second angle: 67\n",
            "Enter the third angle: 89\n",
            "Invalid triangle\n"
          ]
        }
      ]
    },
    {
      "cell_type": "code",
      "source": [
        "def categorize_bmi(bmi):\n",
        "    if bmi < 18.5:\n",
        "        return \"Underweight\"\n",
        "    elif 18.5 <= bmi < 24.9:\n",
        "        return \"Normal weight\"\n",
        "    elif 25 <= bmi < 29.9:\n",
        "        return \"Overweight\"\n",
        "    else:\n",
        "        return \"Obese\"\n",
        "\n",
        "weight = float(input(\"Enter your weight in kg: \"))\n",
        "height = float(input(\"Enter your height in meters: \"))\n",
        "bmi = weight / (height ** 2)\n",
        "print(f\"Your BMI is {bmi:.2f}, which is considered {categorize_bmi(bmi)}.\")\n"
      ],
      "metadata": {
        "colab": {
          "base_uri": "https://localhost:8080/"
        },
        "id": "2li6IRazbRAP",
        "outputId": "4e8a955a-0c4b-410d-d421-7b89b9cbb803"
      },
      "execution_count": null,
      "outputs": [
        {
          "output_type": "stream",
          "name": "stdout",
          "text": [
            "Enter your weight in kg: 78\n",
            "Enter your height in meters: 5\n",
            "Your BMI is 3.12, which is considered Underweight.\n"
          ]
        }
      ]
    },
    {
      "cell_type": "code",
      "source": [
        "def check_number(num):\n",
        "    if num > 0:\n",
        "        return \"Positive\"\n",
        "    elif num < 0:\n",
        "        return \"Negative\"\n",
        "    else:\n",
        "        return \"Zero\"\n",
        "\n",
        "number = float(input(\"Enter a number: \"))\n",
        "print(f\"The number {number} is {check_number(number)}.\")\n"
      ],
      "metadata": {
        "colab": {
          "base_uri": "https://localhost:8080/"
        },
        "id": "a3hwX24TbQ9X",
        "outputId": "0f5ca548-3cd6-4a4b-ac5b-ea488d13b738"
      },
      "execution_count": null,
      "outputs": [
        {
          "output_type": "stream",
          "name": "stdout",
          "text": [
            "Enter a number: 6\n",
            "The number 6.0 is Positive.\n"
          ]
        }
      ]
    },
    {
      "cell_type": "code",
      "source": [
        "def check_char_type(char):\n",
        "    if char.isupper():\n",
        "        return \"Uppercase\"\n",
        "    elif char.islower():\n",
        "        return \"Lowercase\"\n",
        "    else:\n",
        "        return \"Special\"\n",
        "\n",
        "char = input(\"Enter a character: \")\n",
        "print(f\"The character '{char}' is {check_char_type(char)}.\")\n"
      ],
      "metadata": {
        "colab": {
          "base_uri": "https://localhost:8080/"
        },
        "id": "TKR46IjbbQ6_",
        "outputId": "bc5bdfa3-6391-41e0-fc17-8e17ebee3530"
      },
      "execution_count": null,
      "outputs": [
        {
          "output_type": "stream",
          "name": "stdout",
          "text": [
            "Enter a character: fghjk\n",
            "The character 'fghjk' is Lowercase.\n"
          ]
        }
      ]
    },
    {
      "cell_type": "code",
      "source": [
        "def calculate_discount(price):\n",
        "    if price >= 1000:\n",
        "        return price * 0.1  # 10% discount\n",
        "    elif price >= 500:\n",
        "        return price * 0.05  # 5% discount\n",
        "    else:\n",
        "        return 0  # No discount\n",
        "\n",
        "price = float(input(\"Enter the purchase amount: \"))\n",
        "discount = calculate_discount(price)\n",
        "print(f\"The discount on a purchase of {price} is {discount}, final price is {price - discount}.\")\n"
      ],
      "metadata": {
        "colab": {
          "base_uri": "https://localhost:8080/"
        },
        "id": "AQV-VopkbQ30",
        "outputId": "aab41388-dcc8-4287-80cf-d61b9515d6e7"
      },
      "execution_count": null,
      "outputs": [
        {
          "output_type": "stream",
          "name": "stdout",
          "text": [
            "Enter the purchase amount: 4567\n",
            "The discount on a purchase of 4567.0 is 456.70000000000005, final price is 4110.3.\n"
          ]
        }
      ]
    },
    {
      "cell_type": "code",
      "source": [
        "def calculate_electricity_bill(units):\n",
        "    if units <= 100:\n",
        "        return units * 0.5\n",
        "    elif units <= 200:\n",
        "        return 100 * 0.5 + (units - 100) * 0.75\n",
        "    elif units <= 300:\n",
        "        return 100 * 0.5 + 100 * 0.75 + (units - 200) * 1.2\n",
        "    else:\n",
        "        return 100 * 0.5 + 100 * 0.75 + 100 * 1.2 + (units - 300) * 1.5\n",
        "\n",
        "units = float(input(\"Enter the number of units consumed: \"))\n",
        "bill = calculate_electricity_bill(units)\n",
        "print(f\"The electricity bill for {units} units is: {bill}\")\n"
      ],
      "metadata": {
        "colab": {
          "base_uri": "https://localhost:8080/"
        },
        "id": "My815ASNbQ1G",
        "outputId": "925c1cd3-feb8-47f5-e331-b8a4e7e96973"
      },
      "execution_count": null,
      "outputs": [
        {
          "output_type": "stream",
          "name": "stdout",
          "text": [
            "Enter the number of units consumed: 5678\n",
            "The electricity bill for 5678.0 units is: 8312.0\n"
          ]
        }
      ]
    },
    {
      "cell_type": "code",
      "source": [
        "def quadrilateral_type(sides, angles):\n",
        "    if len(sides) != 4 or len(angles) != 4:\n",
        "        return \"Invalid input for quadrilateral\"\n",
        "\n",
        "    if all(angle == 90 for angle in angles):\n",
        "        if len(set(sides)) == 1:\n",
        "            return \"Square\"\n",
        "        else:\n",
        "            return \"Rectangle\"\n",
        "    elif len(set(sides)) == 2:\n",
        "        return \"Rhombus\"\n",
        "    else:\n",
        "        return \"Other quadrilateral\"\n",
        "\n",
        "sides = [float(input(f\"Enter side {i+1}: \")) for i in range(4)]\n",
        "angles = [float(input(f\"Enter angle {i+1}: \")) for i in range(4)]\n",
        "print(quadrilateral_type(sides, angles))\n"
      ],
      "metadata": {
        "colab": {
          "base_uri": "https://localhost:8080/"
        },
        "id": "4OOtbYFNbQyD",
        "outputId": "7a30a438-78ba-4271-d301-de6a30ffee8c"
      },
      "execution_count": null,
      "outputs": [
        {
          "output_type": "stream",
          "name": "stdout",
          "text": [
            "Enter side 1: 567\n",
            "Enter side 2: 780\n",
            "Enter side 3: 456\n",
            "Enter side 4: 4567\n",
            "Enter angle 1: 43\n",
            "Enter angle 2: 45\n",
            "Enter angle 3: 67\n",
            "Enter angle 4: 90\n",
            "Other quadrilateral\n"
          ]
        }
      ]
    },
    {
      "cell_type": "code",
      "source": [
        "def determine_season(month):\n",
        "    if month in [12, 1, 2]:\n",
        "        return \"Winter\"\n",
        "    elif month in [3, 4, 5]:\n",
        "        return \"Spring\"\n",
        "    elif month in [6, 7, 8]:\n",
        "        return \"Summer\"\n",
        "    elif month in [9, 10, 11]:\n",
        "        return \"Fall\"\n",
        "    else:\n",
        "        return \"Invalid month\"\n",
        "\n",
        "month = int(input(\"Enter the month number (1-12): \"))\n",
        "print(f\"The season for month {month} is {determine_season(month)}.\")\n"
      ],
      "metadata": {
        "colab": {
          "base_uri": "https://localhost:8080/"
        },
        "id": "H1HYnRZCbQvC",
        "outputId": "6de176f3-d96e-4c85-dd2f-7610695ab451"
      },
      "execution_count": null,
      "outputs": [
        {
          "output_type": "stream",
          "name": "stdout",
          "text": [
            "Enter the month number (1-12): 6\n",
            "The season for month 6 is Summer.\n"
          ]
        }
      ]
    },
    {
      "cell_type": "code",
      "source": [
        "def year_type(year):\n",
        "    if (year % 4 == 0 and year % 100 != 0) or (year % 400 == 0):\n",
        "        return \"Leap year\"\n",
        "    else:\n",
        "        return \"Common year\"\n",
        "\n",
        "def month_days(month, year):\n",
        "    if month in [1, 3, 5, 7, 8, 10, 12]:\n",
        "        return 31\n",
        "    elif month in [4, 6, 9, 11]:\n",
        "        return 30\n",
        "    elif month == 2:\n",
        "        if year_type(year) == \"Leap year\":\n",
        "            return 29\n",
        "        else:\n",
        "            return 28\n",
        "    else:\n",
        "        return \"Invalid month\"\n",
        "\n",
        "year = int(input(\"Enter the year: \"))\n",
        "month = int(input(\"Enter the month (1-12): \"))\n",
        "print(f\"The year {year} is a {year_type(year)}.\")\n",
        "print(f\"The month {month} has {month_days(month, year)} days.\")\n"
      ],
      "metadata": {
        "colab": {
          "base_uri": "https://localhost:8080/"
        },
        "id": "aQh6rHH4bQsL",
        "outputId": "65f23fc5-006a-4911-e728-3e6c3ec68a4c"
      },
      "execution_count": null,
      "outputs": [
        {
          "output_type": "stream",
          "name": "stdout",
          "text": [
            "Enter the year: 4567\n",
            "Enter the month (1-12): 4\n",
            "The year 4567 is a Common year.\n",
            "The month 4 has 30 days.\n"
          ]
        }
      ]
    },
    {
      "cell_type": "markdown",
      "source": [
        "Basic Level:\n",
        "1. Write a Python program that checks if a given number is positive, negative, or zero.\n",
        "2. Create a program to determine if a person is eligible to vote based on their age.\n",
        "3. Write a program to find the maximum of two given numbers using conditional statements.\n",
        "4. Develop a program that calculates the grade of a student based on their exam score.\n",
        "5. Create a program that checks if a year is a leap year or not.\n",
        "6. Write a program to classify a triangle based on its sides' lengths.\n",
        "7. Build a program that determines the largest of three given numbers.\n",
        "8. Develop a program that checks whether a character is a vowel or a consonant.\n",
        "9. Create a program to calculate the total cost of a shopping cart based on discounts.\n",
        "10. Write a program that checks if a given number is even or odd."
      ],
      "metadata": {
        "id": "zbozYP9KeFbo"
      }
    },
    {
      "cell_type": "code",
      "source": [
        "def check_number(num):\n",
        "    if num > 0:\n",
        "        return \"Positive\"\n",
        "    elif num < 0:\n",
        "        return \"Negative\"\n",
        "    else:\n",
        "        return \"Zero\"\n",
        "\n",
        "number = float(input(\"Enter a number: \"))\n",
        "print(f\"The number {number} is {check_number(number)}.\")\n"
      ],
      "metadata": {
        "colab": {
          "base_uri": "https://localhost:8080/"
        },
        "id": "BaCEH996bQmb",
        "outputId": "95141034-8346-4c0b-834c-652041eba290"
      },
      "execution_count": null,
      "outputs": [
        {
          "output_type": "stream",
          "name": "stdout",
          "text": [
            "Enter a number: 67\n",
            "The number 67.0 is Positive.\n"
          ]
        }
      ]
    },
    {
      "cell_type": "code",
      "source": [
        "def check_voting_eligibility(age):\n",
        "    if age >= 18:\n",
        "        return \"Eligible to vote\"\n",
        "    else:\n",
        "        return \"Not eligible to vote\"\n",
        "\n",
        "age = int(input(\"Enter your age: \"))\n",
        "print(check_voting_eligibility(age))\n"
      ],
      "metadata": {
        "colab": {
          "base_uri": "https://localhost:8080/"
        },
        "id": "Qz_qLIEWbQjW",
        "outputId": "a84e26d0-c6cf-436e-d4dd-afaf2d4465d0"
      },
      "execution_count": null,
      "outputs": [
        {
          "output_type": "stream",
          "name": "stdout",
          "text": [
            "Enter your age: 12\n",
            "Not eligible to vote\n"
          ]
        }
      ]
    },
    {
      "cell_type": "code",
      "source": [
        "def find_maximum(a, b):\n",
        "    if a > b:\n",
        "        return a\n",
        "    else:\n",
        "        return b\n",
        "\n",
        "a = float(input(\"Enter the first number: \"))\n",
        "b = float(input(\"Enter the second number: \"))\n",
        "print(f\"The maximum of {a} and {b} is {find_maximum(a, b)}.\")\n"
      ],
      "metadata": {
        "id": "41iTOzJqbQgd",
        "colab": {
          "base_uri": "https://localhost:8080/"
        },
        "outputId": "0055a894-8c25-4a41-e40f-1beadd20d42e"
      },
      "execution_count": 3,
      "outputs": [
        {
          "output_type": "stream",
          "name": "stdout",
          "text": [
            "Enter the second number: 6\n",
            "The maximum of 34.0 and 6.0 is 34.0.\n"
          ]
        }
      ]
    },
    {
      "cell_type": "code",
      "source": [
        "def calculate_grade(score):\n",
        "    if score >= 90:\n",
        "        return \"A\"\n",
        "    elif score >= 80:\n",
        "        return \"B\"\n",
        "    elif score >= 70:\n",
        "        return \"C\"\n",
        "    elif score >= 60:\n",
        "        return \"D\"\n",
        "    else:\n",
        "        return \"F\"\n",
        "\n",
        "score = float(input(\"Enter the exam score: \"))\n",
        "print(f\"The grade for the score {score} is: {calculate_grade(score)}\")\n"
      ],
      "metadata": {
        "id": "JlLlKlRvbQdY",
        "colab": {
          "base_uri": "https://localhost:8080/"
        },
        "outputId": "5d4bfc65-f71e-4feb-9daa-20590bc65bca"
      },
      "execution_count": 4,
      "outputs": [
        {
          "output_type": "stream",
          "name": "stdout",
          "text": [
            "Enter the exam score: 67\n",
            "The grade for the score 67.0 is: D\n"
          ]
        }
      ]
    },
    {
      "cell_type": "code",
      "source": [
        "def check_leap_year(year):\n",
        "    if (year % 4 == 0 and year % 100 != 0) or (year % 400 == 0):\n",
        "        return \"Leap Year\"\n",
        "    else:\n",
        "        return \"Not a Leap Year\"\n",
        "\n",
        "year = int(input(\"Enter a year: \"))\n",
        "print(check_leap_year(year))\n"
      ],
      "metadata": {
        "id": "hj-tDjyWbQaa",
        "colab": {
          "base_uri": "https://localhost:8080/"
        },
        "outputId": "192e4199-fba5-427e-d5cf-77961c27c953"
      },
      "execution_count": 5,
      "outputs": [
        {
          "output_type": "stream",
          "name": "stdout",
          "text": [
            "Enter a year: 2034\n",
            "Not a Leap Year\n"
          ]
        }
      ]
    },
    {
      "cell_type": "code",
      "source": [
        "def classify_triangle(a, b, c):\n",
        "    if a == b == c:\n",
        "        return \"Equilateral triangle\"\n",
        "    elif a == b or b == c or a == c:\n",
        "        return \"Isosceles triangle\"\n",
        "    else:\n",
        "        return \"Scalene triangle\"\n",
        "\n",
        "a = float(input(\"Enter the first side length: \"))\n",
        "b = float(input(\"Enter the second side length: \"))\n",
        "c = float(input(\"Enter the third side length: \"))\n",
        "print(classify_triangle(a, b, c))\n"
      ],
      "metadata": {
        "id": "rxxbmnTDH9SO",
        "colab": {
          "base_uri": "https://localhost:8080/"
        },
        "outputId": "0ac2fa98-9af3-4472-b63d-00256fd65007"
      },
      "execution_count": 8,
      "outputs": [
        {
          "output_type": "stream",
          "name": "stdout",
          "text": [
            "Enter the first side length: 6\n",
            "Enter the second side length: 7\n",
            "Enter the third side length: 7\n",
            "Isosceles triangle\n"
          ]
        }
      ]
    },
    {
      "cell_type": "code",
      "source": [
        "def find_largest(a, b, c):\n",
        "    if a >= b and a >= c:\n",
        "        return a\n",
        "    elif b >= a and b >= c:\n",
        "        return b\n",
        "    else:\n",
        "        return c\n",
        "\n",
        "a = float(input(\"Enter the first number: \"))\n",
        "b = float(input(\"Enter the second number: \"))\n",
        "c = float(input(\"Enter the third number: \"))\n",
        "print(f\"The largest number is {find_largest(a, b, c)}.\")\n"
      ],
      "metadata": {
        "id": "Z4fLP65XbQXn",
        "colab": {
          "base_uri": "https://localhost:8080/"
        },
        "outputId": "7f4fc8f1-a855-461b-9845-8a6d6963536f"
      },
      "execution_count": 9,
      "outputs": [
        {
          "output_type": "stream",
          "name": "stdout",
          "text": [
            "Enter the first number: 6\n",
            "Enter the second number: 7\n",
            "Enter the third number: 9\n",
            "The largest number is 9.0.\n"
          ]
        }
      ]
    },
    {
      "cell_type": "code",
      "source": [
        "def check_character_type(char):\n",
        "    vowels = \"AEIOUaeiou\"\n",
        "    if char in vowels:\n",
        "        return \"Vowel\"\n",
        "    else:\n",
        "        return \"Consonant\"\n",
        "\n",
        "char = input(\"Enter a character: \")\n",
        "print(f\"The character '{char}' is a {check_character_type(char)}.\")\n"
      ],
      "metadata": {
        "id": "k37zNtcrbQUd",
        "colab": {
          "base_uri": "https://localhost:8080/"
        },
        "outputId": "077fc7e2-5f09-4f09-cadd-591e8e178e80"
      },
      "execution_count": 51,
      "outputs": [
        {
          "output_type": "stream",
          "name": "stdout",
          "text": [
            "Enter a character: d\n",
            "The character 'd' is a Consonant.\n"
          ]
        }
      ]
    },
    {
      "cell_type": "code",
      "source": [
        "def calculate_total_cost(cart_total):\n",
        "    if cart_total >= 1000:\n",
        "        return cart_total * 0.9  # 10% discount\n",
        "    elif cart_total >= 500:\n",
        "        return cart_total * 0.95  # 5% discount\n",
        "    else:\n",
        "        return cart_total  # No discount\n",
        "\n",
        "cart_total = float(input(\"Enter the total cost of the cart: \"))\n",
        "print(f\"The total cost after discount is {calculate_total_cost(cart_total)}.\")\n"
      ],
      "metadata": {
        "id": "_Xs4zVK5bQRR",
        "colab": {
          "base_uri": "https://localhost:8080/"
        },
        "outputId": "a42e40e4-73f0-47d5-ca7e-5711ca629802"
      },
      "execution_count": 11,
      "outputs": [
        {
          "output_type": "stream",
          "name": "stdout",
          "text": [
            "Enter the total cost of the cart: 67\n",
            "The total cost after discount is 67.0.\n"
          ]
        }
      ]
    },
    {
      "cell_type": "code",
      "source": [
        "def check_even_or_odd(num):\n",
        "    if num % 2 == 0:\n",
        "        return \"Even\"\n",
        "    else:\n",
        "        return \"Odd\"\n",
        "\n",
        "number = int(input(\"Enter a number: \"))\n",
        "print(f\"The number {number} is {check_even_or_odd(number)}.\")\n"
      ],
      "metadata": {
        "id": "C4xEFJ_bIEpY",
        "colab": {
          "base_uri": "https://localhost:8080/"
        },
        "outputId": "7debb38e-e356-4403-bd4e-6a5051877248"
      },
      "execution_count": 12,
      "outputs": [
        {
          "output_type": "stream",
          "name": "stdout",
          "text": [
            "Enter a number: 68\n",
            "The number 68 is Even.\n"
          ]
        }
      ]
    },
    {
      "cell_type": "markdown",
      "source": [
        "Intermediate Level:\n",
        "11. Write a program that calculates the roots of a quadratic equation .\n",
        "12. Create a program that determines the day of the week based on the day number (1-7).\n",
        "13. Develop a program that calculates the factorial of a given number using recursion.\n",
        "14. Write a program to find the largest among three numbers without using the max() function.\n",
        "15. Create a program that simulates a basic ATM transaction menu.\n",
        "16. Build a program that checks if a given string is a palindrome or not.\n",
        "17. Write a program that calculates the average of a list of numbers, excluding the smallest and largest values.\n",
        "18. Develop a program that converts a given temperature from Celsius to Fahrenheit.\n",
        "19. Create a program that simulates a basic calculator for addition, subtraction, multiplication, and division.\n",
        "20. Write a program that determines the roots of a cubic equation using the Cardano formula."
      ],
      "metadata": {
        "id": "SNKwbqj2IO71"
      }
    },
    {
      "cell_type": "code",
      "source": [
        "import math\n",
        "\n",
        "def find_roots(a, b, c):\n",
        "    discriminant = b**2 - 4*a*c\n",
        "    if discriminant > 0:\n",
        "        root1 = (-b + math.sqrt(discriminant)) / (2*a)\n",
        "        root2 = (-b - math.sqrt(discriminant)) / (2*a)\n",
        "        return root1, root2\n",
        "    elif discriminant == 0:\n",
        "        root = -b / (2*a)\n",
        "        return root,\n",
        "    else:\n",
        "        real_part = -b / (2*a)\n",
        "        imaginary_part = math.sqrt(-discriminant) / (2*a)\n",
        "        return real_part + imaginary_part * 1j, real_part - imaginary_part * 1j\n",
        "\n",
        "a = float(input(\"Enter coefficient a: \"))\n",
        "b = float(input(\"Enter coefficient b: \"))\n",
        "c = float(input(\"Enter coefficient c: \"))\n",
        "roots = find_roots(a, b, c)\n",
        "print(f\"The roots of the quadratic equation are: {roots}\")\n"
      ],
      "metadata": {
        "id": "Yif3swFMIElw",
        "colab": {
          "base_uri": "https://localhost:8080/"
        },
        "outputId": "8eb47210-0bc5-4137-ff58-cf5c5e7996f9"
      },
      "execution_count": 13,
      "outputs": [
        {
          "output_type": "stream",
          "name": "stdout",
          "text": [
            "Enter coefficient a: 2\n",
            "Enter coefficient b: 5\n",
            "Enter coefficient c: 8\n",
            "The roots of the quadratic equation are: ((-1.25+1.5612494995995996j), (-1.25-1.5612494995995996j))\n"
          ]
        }
      ]
    },
    {
      "cell_type": "code",
      "source": [
        "def get_day_of_week(day_num):\n",
        "    days = [\"Sunday\", \"Monday\", \"Tuesday\", \"Wednesday\", \"Thursday\", \"Friday\", \"Saturday\"]\n",
        "    if 1 <= day_num <= 7:\n",
        "        return days[day_num - 1]\n",
        "    else:\n",
        "        return \"Invalid day number\"\n",
        "\n",
        "day_num = int(input(\"Enter day number (1-7): \"))\n",
        "print(f\"The day of the week is: {get_day_of_week(day_num)}\")\n"
      ],
      "metadata": {
        "id": "c0dTDdgWIEil",
        "colab": {
          "base_uri": "https://localhost:8080/"
        },
        "outputId": "6bbbd7cf-ea6d-4a54-d831-8a1b26c391d3"
      },
      "execution_count": 14,
      "outputs": [
        {
          "output_type": "stream",
          "name": "stdout",
          "text": [
            "Enter day number (1-7): 9\n",
            "The day of the week is: Invalid day number\n"
          ]
        }
      ]
    },
    {
      "cell_type": "code",
      "source": [
        "def factorial(n):\n",
        "    if n == 0 or n == 1:\n",
        "        return 1\n",
        "    else:\n",
        "        return n * factorial(n - 1)\n",
        "\n",
        "num = int(input(\"Enter a number: \"))\n",
        "print(f\"The factorial of {num} is {factorial(num)}\")\n"
      ],
      "metadata": {
        "id": "Ki3nuaHxIEgj",
        "colab": {
          "base_uri": "https://localhost:8080/"
        },
        "outputId": "6d12a350-3f24-430f-cae8-ad55534e840c"
      },
      "execution_count": 15,
      "outputs": [
        {
          "output_type": "stream",
          "name": "stdout",
          "text": [
            "Enter a number: 9\n",
            "The factorial of 9 is 362880\n"
          ]
        }
      ]
    },
    {
      "cell_type": "code",
      "source": [
        "def find_largest(a, b, c):\n",
        "    if a >= b and a >= c:\n",
        "        return a\n",
        "    elif b >= a and b >= c:\n",
        "        return b\n",
        "    else:\n",
        "        return c\n",
        "\n",
        "a = float(input(\"Enter the first number: \"))\n",
        "b = float(input(\"Enter the second number: \"))\n",
        "c = float(input(\"Enter the third number: \"))\n",
        "print(f\"The largest number is {find_largest(a, b, c)}.\")\n"
      ],
      "metadata": {
        "id": "fU44XhWLIEdn",
        "colab": {
          "base_uri": "https://localhost:8080/"
        },
        "outputId": "46718888-74ba-4b2e-d0e0-45875affd2ae"
      },
      "execution_count": 16,
      "outputs": [
        {
          "output_type": "stream",
          "name": "stdout",
          "text": [
            "Enter the first number: 6\n",
            "Enter the second number: 9\n",
            "Enter the third number: 3\n",
            "The largest number is 9.0.\n"
          ]
        }
      ]
    },
    {
      "cell_type": "code",
      "source": [
        "def atm_transaction():\n",
        "    balance = 1000  # Initial balance\n",
        "    while True:\n",
        "        print(\"\\nATM Menu:\")\n",
        "        print(\"1. Check Balance\")\n",
        "        print(\"2. Deposit\")\n",
        "        print(\"3. Withdraw\")\n",
        "        print(\"4. Exit\")\n",
        "\n",
        "        choice = int(input(\"Enter choice (1-4): \"))\n",
        "\n",
        "        if choice == 1:\n",
        "            print(f\"Your balance is ${balance}\")\n",
        "        elif choice == 2:\n",
        "            deposit = float(input(\"Enter amount to deposit: \"))\n",
        "            balance += deposit\n",
        "            print(f\"${deposit} deposited. New balance is ${balance}\")\n",
        "        elif choice == 3:\n",
        "            withdraw = float(input(\"Enter amount to withdraw: \"))\n",
        "            if withdraw <= balance:\n",
        "                balance -= withdraw\n",
        "                print(f\"${withdraw} withdrawn. New balance is ${balance}\")\n",
        "            else:\n",
        "                print(\"Insufficient funds.\")\n",
        "        elif choice == 4:\n",
        "            print(\"Thank you for using the ATM. Goodbye!\")\n",
        "            break\n",
        "        else:\n",
        "            print(\"Invalid choice, please try again.\")\n",
        "\n",
        "atm_transaction()\n"
      ],
      "metadata": {
        "id": "e04BKuUbIEaz",
        "colab": {
          "base_uri": "https://localhost:8080/"
        },
        "outputId": "8d8684eb-d4f7-43c2-92db-68debc824b60"
      },
      "execution_count": 17,
      "outputs": [
        {
          "output_type": "stream",
          "name": "stdout",
          "text": [
            "\n",
            "ATM Menu:\n",
            "1. Check Balance\n",
            "2. Deposit\n",
            "3. Withdraw\n",
            "4. Exit\n",
            "Enter choice (1-4): 2\n",
            "Enter amount to deposit: 3456\n",
            "$3456.0 deposited. New balance is $4456.0\n",
            "\n",
            "ATM Menu:\n",
            "1. Check Balance\n",
            "2. Deposit\n",
            "3. Withdraw\n",
            "4. Exit\n",
            "Enter choice (1-4): 1\n",
            "Your balance is $4456.0\n",
            "\n",
            "ATM Menu:\n",
            "1. Check Balance\n",
            "2. Deposit\n",
            "3. Withdraw\n",
            "4. Exit\n",
            "Enter choice (1-4): 4\n",
            "Thank you for using the ATM. Goodbye!\n"
          ]
        }
      ]
    },
    {
      "cell_type": "code",
      "source": [
        "def is_palindrome(string):\n",
        "    return string == string[::-1]\n",
        "\n",
        "string = input(\"Enter a string: \")\n",
        "if is_palindrome(string):\n",
        "    print(f\"The string '{string}' is a palindrome.\")\n",
        "else:\n",
        "    print(f\"The string '{string}' is not a palindrome.\")\n"
      ],
      "metadata": {
        "id": "I9uFq4v5IEX4",
        "colab": {
          "base_uri": "https://localhost:8080/"
        },
        "outputId": "89a5e272-cf32-4660-f9d2-38fad44ace7a"
      },
      "execution_count": 18,
      "outputs": [
        {
          "output_type": "stream",
          "name": "stdout",
          "text": [
            "Enter a string: dfgh\n",
            "The string 'dfgh' is not a palindrome.\n"
          ]
        }
      ]
    },
    {
      "cell_type": "code",
      "source": [
        "def average_excluding_extremes(numbers):\n",
        "    numbers.sort()\n",
        "    return sum(numbers[1:-1]) / len(numbers[1:-1]) if len(numbers) > 2 else 0\n",
        "\n",
        "numbers = list(map(int, input(\"Enter numbers separated by space: \").split()))\n",
        "print(f\"The average excluding the smallest and largest values is {average_excluding_extremes(numbers)}\")\n"
      ],
      "metadata": {
        "id": "BX1a9NO-IEVD",
        "colab": {
          "base_uri": "https://localhost:8080/"
        },
        "outputId": "da5759ae-60c3-432a-d3d8-00caa969eaac"
      },
      "execution_count": 19,
      "outputs": [
        {
          "output_type": "stream",
          "name": "stdout",
          "text": [
            "Enter numbers separated by space: 4 6 8\n",
            "The average excluding the smallest and largest values is 6.0\n"
          ]
        }
      ]
    },
    {
      "cell_type": "code",
      "source": [
        "def celsius_to_fahrenheit(celsius):\n",
        "    return (celsius * 9/5) + 32\n",
        "\n",
        "celsius = float(input(\"Enter temperature in Celsius: \"))\n",
        "print(f\"{celsius} Celsius is {celsius_to_fahrenheit(celsius)} Fahrenheit.\")\n"
      ],
      "metadata": {
        "id": "Jq1wFHnMIESH",
        "colab": {
          "base_uri": "https://localhost:8080/"
        },
        "outputId": "44ed03d6-f337-4827-a08c-4bc1aa021ef6"
      },
      "execution_count": 20,
      "outputs": [
        {
          "output_type": "stream",
          "name": "stdout",
          "text": [
            "Enter temperature in Celsius: 45\n",
            "45.0 Celsius is 113.0 Fahrenheit.\n"
          ]
        }
      ]
    },
    {
      "cell_type": "code",
      "source": [
        "def calculator():\n",
        "    print(\"Select operation:\")\n",
        "    print(\"1. Add\")\n",
        "    print(\"2. Subtract\")\n",
        "    print(\"3. Multiply\")\n",
        "    print(\"4. Divide\")\n",
        "\n",
        "    operation = input(\"Enter choice (1/2/3/4): \")\n",
        "\n",
        "    num1 = float(input(\"Enter first number: \"))\n",
        "    num2 = float(input(\"Enter second number: \"))\n",
        "\n",
        "    if operation == '1':\n",
        "        print(f\"{num1} + {num2} = {num1 + num2}\")\n",
        "    elif operation == '2':\n",
        "        print(f\"{num1} - {num2} = {num1 - num2}\")\n",
        "    elif operation == '3':\n",
        "        print(f\"{num1} * {num2} = {num1 * num2}\")\n",
        "    elif operation == '4':\n",
        "        if num2 != 0:\n",
        "            print(f\"{num1} / {num2} = {num1 / num2}\")\n",
        "        else:\n",
        "            print(\"Error! Division by zero.\")\n",
        "    else:\n",
        "        print(\"Invalid input!\")\n",
        "\n",
        "calculator()\n"
      ],
      "metadata": {
        "id": "c580-txWIfCC",
        "colab": {
          "base_uri": "https://localhost:8080/"
        },
        "outputId": "057ef023-b3dd-43ef-86f6-ec5078c20101"
      },
      "execution_count": 21,
      "outputs": [
        {
          "output_type": "stream",
          "name": "stdout",
          "text": [
            "Select operation:\n",
            "1. Add\n",
            "2. Subtract\n",
            "3. Multiply\n",
            "4. Divide\n",
            "Enter choice (1/2/3/4): 2\n",
            "Enter first number: 4\n",
            "Enter second number: 6\n",
            "4.0 - 6.0 = -2.0\n"
          ]
        }
      ]
    },
    {
      "cell_type": "code",
      "source": [
        "import cmath\n",
        "\n",
        "def cardano_cubic(a, b, c, d):\n",
        "    # Calculate the discriminant\n",
        "    delta0 = b**2 - 3*a*c\n",
        "    delta1 = 2*b**3 - 9*a*b*c + 27*a**2*d\n",
        "    discriminant = (delta1**2 - 4*delta0**3) / -27*a**2\n",
        "\n",
        "    # Calculate the cube root of the discriminant\n",
        "    C = cmath.sqrt((delta1 + cmath.sqrt(discriminant)) / 2)\n",
        "\n",
        "    # Calculate the roots\n",
        "    u1 = -1 / (3*a) * (b + C + delta0 / C)\n",
        "    u2 = -1 / (3*a) * (b + cmath.exp(2j * cmath.pi / 3) * C + delta0 / (cmath.exp(2j * cmath.pi / 3) * C))\n",
        "    u3 = -1 / (3*a) * (b + cmath.exp(-2j * cmath.pi / 3) * C + delta0 / (cmath.exp(-2j * cmath.pi / 3) * C))\n",
        "\n",
        "    return u1, u2, u3\n",
        "\n",
        "a = float(input(\"Enter coefficient a: \"))\n",
        "b = float(input(\"Enter coefficient b: \"))\n",
        "c = float(input(\"Enter coefficient c: \"))\n",
        "d = float(input(\"Enter coefficient d: \"))\n",
        "roots = cardano_cubic(a, b, c, d)\n",
        "print(f\"The roots of the cubic equation are: {roots}\")\n"
      ],
      "metadata": {
        "id": "QxsniESuIe_i",
        "colab": {
          "base_uri": "https://localhost:8080/"
        },
        "outputId": "dab76616-37a4-44b1-f0ae-0ee0f1a8c807"
      },
      "execution_count": 22,
      "outputs": [
        {
          "output_type": "stream",
          "name": "stdout",
          "text": [
            "Enter coefficient a: 3\n",
            "Enter coefficient b: 8\n",
            "Enter coefficient c: 2\n",
            "Enter coefficient d: 7\n",
            "The roots of the cubic equation are: ((-4.920782415069838-0.9739766805047311j), (2.0318642435685237-2.7681033614609523j), (0.2222515048346462+3.742080041965683j))\n"
          ]
        }
      ]
    },
    {
      "cell_type": "markdown",
      "source": [
        "Advanced Level:\n",
        "21. Create a program that calculates the income tax based on the user's income and tax brackets.\n",
        "22. Write a program that simulates a rock-paper-scissors game against the computer.\n",
        "23. Develop a program that generates a random password based on user preferences (length, complexity).\n",
        "24. Create a program that implements a simple text-based adventure game with branching scenarios.\n",
        "25. Build a program that solves a linear equation for x, considering different cases.\n",
        "26. Write a program that simulates a basic quiz game with multiple-choice questions and scoring.\n",
        "27. Develop a program that determines whether a given year is a prime number or not.\n",
        "28. Create a program that sorts three numbers in ascending order using conditional statements.\n",
        "29. Build a program that determines the roots of a quartic equation using numerical methods.\n",
        "30. Write a program that calculates the BMI (Body Mass Index) and provides health recommendations based\n",
        "on the user's input."
      ],
      "metadata": {
        "id": "Ikc-n6psIv43"
      }
    },
    {
      "cell_type": "code",
      "source": [
        "def calculate_tax(income):\n",
        "    if income <= 10000:\n",
        "        tax = 0\n",
        "    elif income <= 20000:\n",
        "        tax = (income - 10000) * 0.1\n",
        "    elif income <= 50000:\n",
        "        tax = (income - 20000) * 0.2 + 1000\n",
        "    else:\n",
        "        tax = (income - 50000) * 0.3 + 9000\n",
        "    return tax\n",
        "\n",
        "income = float(input(\"Enter your annual income: \"))\n",
        "tax = calculate_tax(income)\n",
        "print(f\"Your tax is: ${tax}\")\n"
      ],
      "metadata": {
        "id": "dPUUnNkJIe88",
        "colab": {
          "base_uri": "https://localhost:8080/"
        },
        "outputId": "5cf5e3df-e548-4bfb-a4cc-bb6d92892330"
      },
      "execution_count": 23,
      "outputs": [
        {
          "output_type": "stream",
          "name": "stdout",
          "text": [
            "Enter your annual income: 35000\n",
            "Your tax is: $4000.0\n"
          ]
        }
      ]
    },
    {
      "cell_type": "code",
      "source": [
        "import random\n",
        "\n",
        "def play_game():\n",
        "    choices = ['rock', 'paper', 'scissors']\n",
        "    user_choice = input(\"Enter rock, paper, or scissors: \").lower()\n",
        "    if user_choice not in choices:\n",
        "        print(\"Invalid input, please choose rock, paper, or scissors.\")\n",
        "        return\n",
        "\n",
        "    computer_choice = random.choice(choices)\n",
        "    print(f\"Computer chose: {computer_choice}\")\n",
        "\n",
        "    if user_choice == computer_choice:\n",
        "        print(\"It's a tie!\")\n",
        "    elif (user_choice == 'rock' and computer_choice == 'scissors') or \\\n",
        "         (user_choice == 'paper' and computer_choice == 'rock') or \\\n",
        "         (user_choice == 'scissors' and computer_choice == 'paper'):\n",
        "        print(\"You win!\")\n",
        "    else:\n",
        "        print(\"You lose!\")\n",
        "\n",
        "play_game()\n"
      ],
      "metadata": {
        "id": "fpJ6xFO9Ie55",
        "colab": {
          "base_uri": "https://localhost:8080/"
        },
        "outputId": "0c7549e9-7cb4-4335-8e50-a1759ce908de"
      },
      "execution_count": 24,
      "outputs": [
        {
          "output_type": "stream",
          "name": "stdout",
          "text": [
            "Enter rock, paper, or scissors: rock\n",
            "Computer chose: rock\n",
            "It's a tie!\n"
          ]
        }
      ]
    },
    {
      "cell_type": "code",
      "source": [
        "import random\n",
        "import string\n",
        "\n",
        "def generate_password(length, complexity):\n",
        "    characters = string.ascii_letters + string.digits\n",
        "    if complexity == \"high\":\n",
        "        characters += string.punctuation\n",
        "\n",
        "    password = ''.join(random.choice(characters) for i in range(length))\n",
        "    return password\n",
        "\n",
        "length = int(input(\"Enter the password length: \"))\n",
        "complexity = input(\"Enter complexity (low/high): \").lower()\n",
        "\n",
        "password = generate_password(length, complexity)\n",
        "print(f\"Generated password: {password}\")\n"
      ],
      "metadata": {
        "id": "Qp5zXgNNIe3B",
        "colab": {
          "base_uri": "https://localhost:8080/"
        },
        "outputId": "a34d762c-6a96-4a24-b529-07c6dd1807bc"
      },
      "execution_count": 25,
      "outputs": [
        {
          "output_type": "stream",
          "name": "stdout",
          "text": [
            "Enter the password length: 4\n",
            "Enter complexity (low/high): 1\n",
            "Generated password: qNPl\n"
          ]
        }
      ]
    },
    {
      "cell_type": "code",
      "source": [
        "def adventure_game():\n",
        "    print(\"Welcome to the Adventure Game!\")\n",
        "    print(\"You are in a dark forest. You can go left or right.\")\n",
        "\n",
        "    choice = input(\"Do you want to go left or right? \").lower()\n",
        "\n",
        "    if choice == \"left\":\n",
        "        print(\"You find a treasure chest! You win!\")\n",
        "    elif choice == \"right\":\n",
        "        print(\"You encounter a wild animal! You lose!\")\n",
        "    else:\n",
        "        print(\"Invalid choice. Game over.\")\n",
        "\n",
        "adventure_game()\n"
      ],
      "metadata": {
        "id": "S1VZmPUXIeyy",
        "colab": {
          "base_uri": "https://localhost:8080/"
        },
        "outputId": "6e8d151a-9b37-4998-81bb-53efd718387d"
      },
      "execution_count": 26,
      "outputs": [
        {
          "output_type": "stream",
          "name": "stdout",
          "text": [
            "Welcome to the Adventure Game!\n",
            "You are in a dark forest. You can go left or right.\n",
            "Do you want to go left or right? left\n",
            "You find a treasure chest! You win!\n"
          ]
        }
      ]
    },
    {
      "cell_type": "code",
      "source": [
        "def solve_linear_equation(a, b):\n",
        "    if a == 0:\n",
        "        if b == 0:\n",
        "            return \"Infinite solutions\"\n",
        "        else:\n",
        "            return \"No solution\"\n",
        "    else:\n",
        "        x = -b / a\n",
        "        return x\n",
        "\n",
        "a = float(input(\"Enter the coefficient a: \"))\n",
        "b = float(input(\"Enter the coefficient b: \"))\n",
        "solution = solve_linear_equation(a, b)\n",
        "print(f\"The solution to the equation is: {solution}\")\n"
      ],
      "metadata": {
        "id": "nOZpG4Y5IewJ",
        "colab": {
          "base_uri": "https://localhost:8080/"
        },
        "outputId": "a8bbf673-b6c9-40ed-9b64-4d22cddaa908"
      },
      "execution_count": 27,
      "outputs": [
        {
          "output_type": "stream",
          "name": "stdout",
          "text": [
            "Enter the coefficient a: 4\n",
            "Enter the coefficient b: 7\n",
            "The solution to the equation is: -1.75\n"
          ]
        }
      ]
    },
    {
      "cell_type": "code",
      "source": [
        "def quiz_game():\n",
        "    questions = [\n",
        "        {\"question\": \"What is the capital of France?\", \"options\": [\"1. Paris\", \"2. London\", \"3. Berlin\"], \"answer\": 1},\n",
        "        {\"question\": \"What is 5 + 7?\", \"options\": [\"1. 10\", \"2. 12\", \"3. 14\"], \"answer\": 2},\n",
        "        {\"question\": \"Who wrote 'Hamlet'?\", \"options\": [\"1. Dickens\", \"2. Shakespeare\", \"3. Tolstoy\"], \"answer\": 2},\n",
        "    ]\n",
        "    score = 0\n",
        "\n",
        "    for q in questions:\n",
        "        print(\"\\n\" + q[\"question\"])\n",
        "        for option in q[\"options\"]:\n",
        "            print(option)\n",
        "        answer = int(input(\"Enter the correct option number: \"))\n",
        "        if answer == q[\"answer\"]:\n",
        "            print(\"Correct!\")\n",
        "            score += 1\n",
        "        else:\n",
        "            print(\"Wrong!\")\n",
        "\n",
        "    print(f\"\\nYour total score is: {score}/{len(questions)}\")\n",
        "\n",
        "quiz_game()\n"
      ],
      "metadata": {
        "id": "cCvuO--WIetd",
        "colab": {
          "base_uri": "https://localhost:8080/"
        },
        "outputId": "1b3c244e-70b3-481c-c99c-5118b440254f"
      },
      "execution_count": 28,
      "outputs": [
        {
          "output_type": "stream",
          "name": "stdout",
          "text": [
            "\n",
            "What is the capital of France?\n",
            "1. Paris\n",
            "2. London\n",
            "3. Berlin\n",
            "Enter the correct option number: 3\n",
            "Wrong!\n",
            "\n",
            "What is 5 + 7?\n",
            "1. 10\n",
            "2. 12\n",
            "3. 14\n",
            "Enter the correct option number: 2\n",
            "Correct!\n",
            "\n",
            "Who wrote 'Hamlet'?\n",
            "1. Dickens\n",
            "2. Shakespeare\n",
            "3. Tolstoy\n",
            "Enter the correct option number: 2\n",
            "Correct!\n",
            "\n",
            "Your total score is: 2/3\n"
          ]
        }
      ]
    },
    {
      "cell_type": "code",
      "source": [
        "def is_prime_year(year):\n",
        "    if year < 2:\n",
        "        return False\n",
        "    for i in range(2, int(year ** 0.5) + 1):\n",
        "        if year % i == 0:\n",
        "            return False\n",
        "    return True\n",
        "\n",
        "year = int(input(\"Enter a year: \"))\n",
        "if is_prime_year(year):\n",
        "    print(f\"{year} is a prime year.\")\n",
        "else:\n",
        "    print(f\"{year} is not a prime year.\")\n"
      ],
      "metadata": {
        "id": "XFcVd1TkIeq9",
        "colab": {
          "base_uri": "https://localhost:8080/"
        },
        "outputId": "17d666d3-1a85-47a2-dfb3-14d145978f00"
      },
      "execution_count": 29,
      "outputs": [
        {
          "output_type": "stream",
          "name": "stdout",
          "text": [
            "Enter a year: 2098\n",
            "2098 is not a prime year.\n"
          ]
        }
      ]
    },
    {
      "cell_type": "code",
      "source": [
        "def sort_three_numbers(a, b, c):\n",
        "    if a > b:\n",
        "        a, b = b, a\n",
        "    if a > c:\n",
        "        a, c = c, a\n",
        "    if b > c:\n",
        "        b, c = c, b\n",
        "    return a, b, c\n",
        "\n",
        "x = float(input(\"Enter the first number: \"))\n",
        "y = float(input(\"Enter the second number: \"))\n",
        "z = float(input(\"Enter the third number: \"))\n",
        "\n",
        "sorted_numbers = sort_three_numbers(x, y, z)\n",
        "print(\"The numbers in ascending order are:\", sorted_numbers)\n"
      ],
      "metadata": {
        "id": "E5C3hleNIeob",
        "colab": {
          "base_uri": "https://localhost:8080/"
        },
        "outputId": "cec7f099-6231-49b9-d024-1d081df8f1e3"
      },
      "execution_count": 30,
      "outputs": [
        {
          "output_type": "stream",
          "name": "stdout",
          "text": [
            "Enter the first number: 4\n",
            "Enter the second number: 6\n",
            "Enter the third number: 8\n",
            "The numbers in ascending order are: (4.0, 6.0, 8.0)\n"
          ]
        }
      ]
    },
    {
      "cell_type": "code",
      "source": [
        "import numpy as np\n",
        "\n",
        "def solve_quartic(a, b, c, d, e):\n",
        "    coefficients = [a, b, c, d, e]\n",
        "    roots = np.roots(coefficients)\n",
        "    return roots\n",
        "\n",
        "print(\"Solving the quartic equation: ax^4 + bx^3 + cx^2 + dx + e = 0\")\n",
        "a = float(input(\"Enter coefficient a: \"))\n",
        "b = float(input(\"Enter coefficient b: \"))\n",
        "c = float(input(\"Enter coefficient c: \"))\n",
        "d = float(input(\"Enter coefficient d: \"))\n",
        "e = float(input(\"Enter coefficient e: \"))\n",
        "\n",
        "roots = solve_quartic(a, b, c, d, e)\n",
        "print(\"The roots of the equation are:\", roots)\n"
      ],
      "metadata": {
        "id": "BSrdAMkjIelS",
        "colab": {
          "base_uri": "https://localhost:8080/"
        },
        "outputId": "da95188f-57f9-4878-c6b6-a67d80d4f1ce"
      },
      "execution_count": 50,
      "outputs": [
        {
          "output_type": "stream",
          "name": "stdout",
          "text": [
            "Solving the quartic equation: ax^4 + bx^3 + cx^2 + dx + e = 0\n",
            "Enter coefficient a: 2\n",
            "Enter coefficient b: 3\n",
            "Enter coefficient c: 1\n",
            "Enter coefficient d: 5\n",
            "Enter coefficient e: 2\n",
            "The roots of the equation are: [-1.81583125+0.j          0.35978677+1.11111296j  0.35978677-1.11111296j\n",
            " -0.40374229+0.j        ]\n"
          ]
        }
      ]
    },
    {
      "cell_type": "code",
      "source": [
        "def calculate_bmi(weight, height):\n",
        "    bmi = weight / (height ** 2)\n",
        "    if bmi < 18.5:\n",
        "        category = \"Underweight\"\n",
        "        recommendation = \"Consider a balanced diet with more calories.\"\n",
        "    elif 18.5 <= bmi < 24.9:\n",
        "        category = \"Normal weight\"\n",
        "        recommendation = \"Maintain your current lifestyle and diet.\"\n",
        "    elif 25 <= bmi < 29.9:\n",
        "        category = \"Overweight\"\n",
        "        recommendation = \"Incorporate regular exercise and a healthy diet.\"\n",
        "    else:\n",
        "        category = \"Obese\"\n",
        "        recommendation = \"Consult a healthcare provider for guidance.\"\n",
        "    return bmi, category, recommendation\n",
        "\n",
        "weight = float(input(\"Enter your weight in kilograms: \"))\n",
        "height = float(input(\"Enter your height in meters: \"))\n",
        "bmi, category, recommendation = calculate_bmi(weight, height)\n",
        "\n",
        "print(f\"\\nYour BMI is: {bmi:.2f}\")\n",
        "print(f\"Category: {category}\")\n",
        "print(f\"Recommendation: {recommendation}\")\n"
      ],
      "metadata": {
        "id": "v9vS2thGKPEl",
        "colab": {
          "base_uri": "https://localhost:8080/"
        },
        "outputId": "42b74f0c-908a-4b28-fe4f-626b95564c84"
      },
      "execution_count": 32,
      "outputs": [
        {
          "output_type": "stream",
          "name": "stdout",
          "text": [
            "Enter your weight in kilograms: 67\n",
            "Enter your height in meters: 6\n",
            "\n",
            "Your BMI is: 1.86\n",
            "Category: Underweight\n",
            "Recommendation: Consider a balanced diet with more calories.\n"
          ]
        }
      ]
    },
    {
      "cell_type": "markdown",
      "source": [
        "Challenge Level:\n",
        "31. Create a program that validates a password based on complexity rules (length, characters, etc.).\n",
        "32. Develop a program that performs matrix addition and subtraction based on user input.\n",
        "33. Write a program that calculates the greatest common divisor (GCD) of two numbers using the Euclidean\n",
        "algorithm.\n",
        "34. Build a program that performs matrix multiplication using nested loops and conditional statements.\n",
        "35. Create a program that simulates a basic text-based tic-tac-toe game against the computer.\n",
        "36. Write a program that generates Fibonacci numbers up to a specified term using iterative methods.\n",
        "37. Develop a program that calculates the nth term of the Fibonacci sequence using memoization.\n",
        "38. Create a program that generates a calendar for a given month and year using conditional statements.\n",
        "39. Build a program that simulates a basic text-based blackjack game against the computer.\n",
        "40. Write a program that generates the prime factors of a given number using trial division."
      ],
      "metadata": {
        "id": "dCDHwxEcI-TL"
      }
    },
    {
      "cell_type": "code",
      "source": [
        "import re\n",
        "\n",
        "def validate_password(password):\n",
        "    if len(password) < 8:\n",
        "        return \"Password must be at least 8 characters long.\"\n",
        "    if not re.search(\"[a-z]\", password):\n",
        "        return \"Password must contain at least one lowercase letter.\"\n",
        "    if not re.search(\"[A-Z]\", password):\n",
        "        return \"Password must contain at least one uppercase letter.\"\n",
        "    if not re.search(\"[0-9]\", password):\n",
        "        return \"Password must contain at least one digit.\"\n",
        "    if not re.search(\"[@#$%^&+=]\", password):\n",
        "        return \"Password must contain at least one special character (@, #, $, %, ^, &, +, =).\"\n",
        "    return \"Password is valid!\"\n",
        "\n",
        "password = input(\"Enter a password: \")\n",
        "print(validate_password(password))\n"
      ],
      "metadata": {
        "id": "76Gsap1jIeiV",
        "colab": {
          "base_uri": "https://localhost:8080/"
        },
        "outputId": "f51c1b37-0eab-46c6-b6e8-fa64c30db327"
      },
      "execution_count": 33,
      "outputs": [
        {
          "output_type": "stream",
          "name": "stdout",
          "text": [
            "Enter a password: fghj\n",
            "Password must be at least 8 characters long.\n"
          ]
        }
      ]
    },
    {
      "cell_type": "code",
      "source": [
        "def matrix_operation(matrix1, matrix2, operation):\n",
        "    if operation == \"add\":\n",
        "        return [[matrix1[i][j] + matrix2[i][j] for j in range(len(matrix1[0]))] for i in range(len(matrix1))]\n",
        "    elif operation == \"subtract\":\n",
        "        return [[matrix1[i][j] - matrix2[i][j] for j in range(len(matrix1[0]))] for i in range(len(matrix1))]\n",
        "\n",
        "matrix1 = [[1, 2], [3, 4]]\n",
        "matrix2 = [[5, 6], [7, 8]]\n",
        "\n",
        "operation = input(\"Enter operation (add/subtract): \").lower()\n",
        "result = matrix_operation(matrix1, matrix2, operation)\n",
        "\n",
        "print(\"Result:\")\n",
        "for row in result:\n",
        "    print(row)\n"
      ],
      "metadata": {
        "id": "NZGez2lxIefO",
        "colab": {
          "base_uri": "https://localhost:8080/"
        },
        "outputId": "6068bf36-c14c-484a-de4d-392fba93df19"
      },
      "execution_count": 34,
      "outputs": [
        {
          "output_type": "stream",
          "name": "stdout",
          "text": [
            "Enter operation (add/subtract): add\n",
            "Result:\n",
            "[6, 8]\n",
            "[10, 12]\n"
          ]
        }
      ]
    },
    {
      "cell_type": "code",
      "source": [
        "def gcd(a, b):\n",
        "    while b != 0:\n",
        "        a, b = b, a % b\n",
        "    return a\n",
        "\n",
        "num1 = int(input(\"Enter the first number: \"))\n",
        "num2 = int(input(\"Enter the second number: \"))\n",
        "print(f\"The GCD of {num1} and {num2} is: {gcd(num1, num2)}\")\n"
      ],
      "metadata": {
        "id": "qGzgW6Z7IecI",
        "colab": {
          "base_uri": "https://localhost:8080/"
        },
        "outputId": "85e0077f-2547-47f7-f057-8f0d22806067"
      },
      "execution_count": 35,
      "outputs": [
        {
          "output_type": "stream",
          "name": "stdout",
          "text": [
            "Enter the first number: 5\n",
            "Enter the second number: 6\n",
            "The GCD of 5 and 6 is: 1\n"
          ]
        }
      ]
    },
    {
      "cell_type": "code",
      "source": [
        "def matrix_multiply(A, B):\n",
        "    result = [[0 for _ in range(len(B[0]))] for _ in range(len(A))]\n",
        "    for i in range(len(A)):\n",
        "        for j in range(len(B[0])):\n",
        "            for k in range(len(B)):\n",
        "                result[i][j] += A[i][k] * B[k][j]\n",
        "    return result\n",
        "\n",
        "A = [[1, 2], [3, 4]]\n",
        "B = [[5, 6], [7, 8]]\n",
        "\n",
        "result = matrix_multiply(A, B)\n",
        "print(\"Result of matrix multiplication:\")\n",
        "for row in result:\n",
        "    print(row)\n"
      ],
      "metadata": {
        "id": "T6fPXvXIJLnm",
        "colab": {
          "base_uri": "https://localhost:8080/"
        },
        "outputId": "1f67cb3f-d6f3-4cdc-cb60-a3f0bc648a09"
      },
      "execution_count": 36,
      "outputs": [
        {
          "output_type": "stream",
          "name": "stdout",
          "text": [
            "Result of matrix multiplication:\n",
            "[19, 22]\n",
            "[43, 50]\n"
          ]
        }
      ]
    },
    {
      "cell_type": "code",
      "source": [
        "import random\n",
        "\n",
        "def print_board(board):\n",
        "    for row in board:\n",
        "        print(\" | \".join(row))\n",
        "        print(\"-\" * 5)\n",
        "\n",
        "def check_win(board, player):\n",
        "    for row in board:\n",
        "        if all([cell == player for cell in row]):\n",
        "            return True\n",
        "    for col in range(3):\n",
        "        if all([board[row][col] == player for row in range(3)]):\n",
        "            return True\n",
        "    if all([board[i][i] == player for i in range(3)]) or all([board[i][2-i] == player for i in range(3)]):\n",
        "        return True\n",
        "    return False\n",
        "\n",
        "def is_full(board):\n",
        "    return all([cell != \" \" for row in board for cell in row])\n",
        "\n",
        "def tic_tac_toe():\n",
        "    board = [[\" \" for _ in range(3)] for _ in range(3)]\n",
        "    player = \"X\"\n",
        "    computer = \"O\"\n",
        "\n",
        "    while True:\n",
        "        print_board(board)\n",
        "\n",
        "        if player == \"X\":\n",
        "            row, col = map(int, input(\"Enter your move (row col): \").split())\n",
        "            if board[row][col] != \" \":\n",
        "                print(\"Invalid move. Try again.\")\n",
        "                continue\n",
        "        else:\n",
        "            row, col = random.choice([(i, j) for i in range(3) for j in range(3) if board[i][j] == \" \"])\n",
        "\n",
        "        board[row][col] = player\n",
        "        if check_win(board, player):\n",
        "            print_board(board)\n",
        "            print(f\"Player {player} wins!\")\n",
        "            break\n",
        "\n",
        "        if is_full(board):\n",
        "            print_board(board)\n",
        "            print(\"It's a tie!\")\n",
        "            break\n",
        "\n",
        "        player = computer if player == \"X\" else \"X\"\n",
        "\n",
        "tic_tac_toe()\n"
      ],
      "metadata": {
        "id": "CsLbWfzmIeZQ",
        "colab": {
          "base_uri": "https://localhost:8080/"
        },
        "outputId": "db28d0d4-fc9e-4f1b-8411-cce17cdfa139"
      },
      "execution_count": 49,
      "outputs": [
        {
          "output_type": "stream",
          "name": "stdout",
          "text": [
            "  |   |  \n",
            "-----\n",
            "  |   |  \n",
            "-----\n",
            "  |   |  \n",
            "-----\n",
            "Enter your move (row col): 0 0\n",
            "X |   |  \n",
            "-----\n",
            "  |   |  \n",
            "-----\n",
            "  |   |  \n",
            "-----\n",
            "X |   |  \n",
            "-----\n",
            "O |   |  \n",
            "-----\n",
            "  |   |  \n",
            "-----\n",
            "Enter your move (row col): 1 1\n",
            "X |   |  \n",
            "-----\n",
            "O | X |  \n",
            "-----\n",
            "  |   |  \n",
            "-----\n",
            "X |   |  \n",
            "-----\n",
            "O | X | O\n",
            "-----\n",
            "  |   |  \n",
            "-----\n",
            "Enter your move (row col): 2 2\n",
            "X |   |  \n",
            "-----\n",
            "O | X | O\n",
            "-----\n",
            "  |   | X\n",
            "-----\n",
            "Player X wins!\n"
          ]
        }
      ]
    },
    {
      "cell_type": "code",
      "source": [
        "def fibonacci(n):\n",
        "    fib_sequence = [0, 1]\n",
        "    for i in range(2, n):\n",
        "        fib_sequence.append(fib_sequence[-1] + fib_sequence[-2])\n",
        "    return fib_sequence\n",
        "\n",
        "n = int(input(\"Enter the number of Fibonacci terms: \"))\n",
        "print(f\"Fibonacci sequence up to {n} terms: {fibonacci(n)}\")\n"
      ],
      "metadata": {
        "id": "Fw2IdS7pIeWV",
        "colab": {
          "base_uri": "https://localhost:8080/"
        },
        "outputId": "13d32f73-33f2-4ae3-8c78-daec8a8182f4"
      },
      "execution_count": 39,
      "outputs": [
        {
          "output_type": "stream",
          "name": "stdout",
          "text": [
            "Enter the number of Fibonacci terms: 6\n",
            "Fibonacci sequence up to 6 terms: [0, 1, 1, 2, 3, 5]\n"
          ]
        }
      ]
    },
    {
      "cell_type": "code",
      "source": [
        "memo = {0: 0, 1: 1}\n",
        "\n",
        "def fibonacci_memo(n):\n",
        "    if n not in memo:\n",
        "        memo[n] = fibonacci_memo(n - 1) + fibonacci_memo(n - 2)\n",
        "    return memo[n]\n",
        "\n",
        "n = int(input(\"Enter the term number for Fibonacci: \"))\n",
        "print(f\"The {n}th Fibonacci term is: {fibonacci_memo(n)}\")\n"
      ],
      "metadata": {
        "id": "rHwX37kHIeTn",
        "colab": {
          "base_uri": "https://localhost:8080/"
        },
        "outputId": "c4a5cd38-8fd2-471f-94e8-7386df57dfea"
      },
      "execution_count": 40,
      "outputs": [
        {
          "output_type": "stream",
          "name": "stdout",
          "text": [
            "Enter the term number for Fibonacci: 7\n",
            "The 7th Fibonacci term is: 13\n"
          ]
        }
      ]
    },
    {
      "cell_type": "code",
      "source": [
        "import calendar\n",
        "\n",
        "def generate_calendar(month, year):\n",
        "    return calendar.month(year, month)\n",
        "\n",
        "month = int(input(\"Enter month (1-12): \"))\n",
        "year = int(input(\"Enter year: \"))\n",
        "print(generate_calendar(month, year))\n"
      ],
      "metadata": {
        "id": "2Mg3Zk4jIeQ3",
        "colab": {
          "base_uri": "https://localhost:8080/"
        },
        "outputId": "db0b3180-34a7-4d0c-c662-49cf23ca230c"
      },
      "execution_count": 41,
      "outputs": [
        {
          "output_type": "stream",
          "name": "stdout",
          "text": [
            "Enter month (1-12): 1\n",
            "Enter year: 4567\n",
            "    January 4567\n",
            "Mo Tu We Th Fr Sa Su\n",
            "          1  2  3  4\n",
            " 5  6  7  8  9 10 11\n",
            "12 13 14 15 16 17 18\n",
            "19 20 21 22 23 24 25\n",
            "26 27 28 29 30 31\n",
            "\n"
          ]
        }
      ]
    },
    {
      "cell_type": "code",
      "source": [
        "import random\n",
        "\n",
        "def deal_card():\n",
        "    cards = [2, 3, 4, 5, 6, 7, 8, 9, 10, 10, 10, 10, 11]\n",
        "    return random.choice(cards)\n",
        "\n",
        "def calculate_score(hand):\n",
        "    if sum(hand) == 21 and len(hand) == 2:\n",
        "        return 0\n",
        "    if 11 in hand and sum(hand) > 21:\n",
        "        hand.remove(11)\n",
        "        hand.append(1)\n",
        "    return sum(hand)\n",
        "\n",
        "def blackjack():\n",
        "    player_hand = [deal_card(), deal_card()]\n",
        "    computer_hand = [deal_card(), deal_card()]\n",
        "\n",
        "    game_over = False\n",
        "\n",
        "    while not game_over:\n",
        "        player_score = calculate_score(player_hand)\n",
        "        computer_score = calculate_score(computer_hand)\n",
        "\n",
        "        print(f\"Your cards: {player_hand}, current score: {player_score}\")\n",
        "        print(f\"Computer's first card: {computer_hand[0]}\")\n",
        "\n",
        "        if player_score == 0:\n",
        "            print(\"Blackjack! You win!\")\n",
        "            game_over = True\n",
        "        elif player_score > 21:\n",
        "            print(\"You went over. You lose!\")\n",
        "            game_over = True\n",
        "        else:\n",
        "            should_continue = input(\"Type 'y' to get another card, 'n' to pass: \")\n",
        "            if should_continue == 'y':\n",
        "                player_hand.append(deal_card())\n",
        "            else:\n",
        "                game_over = True\n",
        "\n",
        "    while computer_score != 0 and computer_score < 17:\n",
        "        computer_hand.append(deal_card())\n",
        "        computer_score = calculate_score(computer_hand)\n",
        "\n",
        "    print(f\"Your final hand: {player_hand}, final score: {player_score}\")\n",
        "    print(f\"Computer's final hand: {computer_hand}, final score: {computer_score}\")\n",
        "\n",
        "    if computer_score > 21:\n",
        "        print(\"Computer went over. You win!\")\n",
        "    elif player_score > computer_score:\n",
        "        print(\"You win!\")\n",
        "    elif player_score < computer_score:\n",
        "        print(\"You lose!\")\n",
        "    else:\n",
        "        print(\"It's a tie!\")\n",
        "\n",
        "blackjack()\n"
      ],
      "metadata": {
        "id": "VYXfKG8AIeOE",
        "colab": {
          "base_uri": "https://localhost:8080/"
        },
        "outputId": "6244e67c-30d7-4b46-9a31-60a72650312e"
      },
      "execution_count": 42,
      "outputs": [
        {
          "output_type": "stream",
          "name": "stdout",
          "text": [
            "Your cards: [10, 10], current score: 20\n",
            "Computer's first card: 10\n",
            "Type 'y' to get another card, 'n' to pass: y\n",
            "Your cards: [10, 10, 10], current score: 30\n",
            "Computer's first card: 10\n",
            "You went over. You lose!\n",
            "Your final hand: [10, 10, 10], final score: 30\n",
            "Computer's final hand: [10, 10], final score: 20\n",
            "You win!\n"
          ]
        }
      ]
    },
    {
      "cell_type": "code",
      "source": [
        "def prime_factors(n):\n",
        "    factors = []\n",
        "    divisor = 2\n",
        "    while divisor * divisor <= n:\n",
        "        if n % divisor:\n",
        "            divisor += 1\n",
        "        else:\n",
        "            n //= divisor\n",
        "            factors.append(divisor)\n",
        "    if n > 1:\n",
        "        factors.append(n)\n",
        "    return factors\n",
        "\n",
        "number = int(input(\"Enter a number: \"))\n",
        "print(f\"Prime factors: {prime_factors(number)}\")\n"
      ],
      "metadata": {
        "id": "dH7iyfPHIeK1",
        "colab": {
          "base_uri": "https://localhost:8080/"
        },
        "outputId": "9861935e-38bd-48b4-8294-d5b72ea3c67f"
      },
      "execution_count": 43,
      "outputs": [
        {
          "output_type": "stream",
          "name": "stdout",
          "text": [
            "Enter a number: 67\n",
            "Prime factors: [67]\n"
          ]
        }
      ]
    }
  ]
}